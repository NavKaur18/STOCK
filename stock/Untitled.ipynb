{
 "cells": [
  {
   "cell_type": "code",
   "execution_count": 15,
   "id": "3946a4c3",
   "metadata": {},
   "outputs": [],
   "source": [
    "import tensorflow\n",
    "# 4 layer CNN with a softmax output\n",
    "# test on MNIST data set\n",
    "# You'll need a gpu and a cudnn library to be installed on your system.\n",
    "import keras\n",
    "from keras.datasets import mnist\n",
    "from keras.layers import Dense, Dropout, LSTM\n",
    "from keras.models import Sequential\n",
    "from keras.layers import Convolution2D as Conv2D\n",
    "from keras.layers import Flatten as Flatten\n",
    "from keras.layers import MaxPooling2D as MaxPooling2D"
   ]
  },
  {
   "cell_type": "code",
   "execution_count": 16,
   "id": "a4893ddb",
   "metadata": {},
   "outputs": [],
   "source": [
    "# use a simple structure for your network\n",
    "# one input, one output (softmax).\n",
    "# model = Sequential()\n",
    "\n",
    "model = Sequential()\n",
    "model.add(Conv2D(filters = 20, kernel_size = (5,5), input_shape = (28, 28, 1)))\n",
    "model.add(MaxPooling2D(pool_size = (2,2)))\n",
    "model.add(Flatten())\n",
    "model.add(Dense(units = 128, activation ='relu'))\n",
    "model.add(Dense(units = 10, activation ='softmax'))"
   ]
  },
  {
   "cell_type": "code",
   "execution_count": 19,
   "id": "a01bd41d",
   "metadata": {},
   "outputs": [
    {
     "ename": "TypeError",
     "evalue": "get_file() got an unexpected keyword argument 'shape'",
     "output_type": "error",
     "traceback": [
      "\u001b[1;31m---------------------------------------------------------------------------\u001b[0m",
      "\u001b[1;31mTypeError\u001b[0m                                 Traceback (most recent call last)",
      "\u001b[1;32mC:\\Users\\KAURNA~1\\AppData\\Local\\Temp/ipykernel_18608/3660359774.py\u001b[0m in \u001b[0;36m<module>\u001b[1;34m\u001b[0m\n\u001b[0;32m      3\u001b[0m \u001b[1;32mfrom\u001b[0m \u001b[0mkeras\u001b[0m\u001b[1;33m.\u001b[0m\u001b[0mutils\u001b[0m\u001b[1;33m.\u001b[0m\u001b[0mdata_utils\u001b[0m \u001b[1;32mimport\u001b[0m \u001b[0mget_file\u001b[0m\u001b[1;33m\u001b[0m\u001b[1;33m\u001b[0m\u001b[0m\n\u001b[0;32m      4\u001b[0m mnist_path = get_file('mnist_data.npz', \n\u001b[1;32m----> 5\u001b[1;33m                       shape = (60000, 28, 28, 1), origin='http://yann.lecun.com/exdb/mnist/', checksum = False)\n\u001b[0m\u001b[0;32m      6\u001b[0m \u001b[1;33m\u001b[0m\u001b[0m\n\u001b[0;32m      7\u001b[0m \u001b[0mmnist_train\u001b[0m\u001b[1;33m,\u001b[0m \u001b[0mmnist_test\u001b[0m \u001b[1;33m=\u001b[0m \u001b[0mmnist\u001b[0m\u001b[1;33m.\u001b[0m\u001b[0mload_data\u001b[0m\u001b[1;33m(\u001b[0m\u001b[0mmnist_path\u001b[0m\u001b[1;33m)\u001b[0m\u001b[1;33m\u001b[0m\u001b[1;33m\u001b[0m\u001b[0m\n",
      "\u001b[1;31mTypeError\u001b[0m: get_file() got an unexpected keyword argument 'shape'"
     ]
    }
   ],
   "source": [
    "#create the train/test data loader and the trainer\n",
    "# keras requires input data to be in a special format\n",
    "from keras.utils.data_utils import get_file\n",
    "mnist_path = get_file('mnist_data.npz', \n",
    "                      shape = (60000, 28, 28, 1), origin='http://yann.lecun.com/exdb/mnist/', checksum = False)\n",
    "\n",
    "mnist_train, mnist_test = mnist.load_data(mnist_path)\n"
   ]
  },
  {
   "cell_type": "code",
   "execution_count": null,
   "id": "9bc114b6",
   "metadata": {},
   "outputs": [],
   "source": [
    "# To evaluate the model on a train dataset, the file should look like this:\n",
    "# 1- n_samples - n_timesteps - n_samples_per_timestep - n_features - 1\n",
    "X_train = np.zeros((len(mnist_train), 60000, 28, 28, 1))\n",
    "y_train = np.zeros((len(mnist_train), 60000), dtype=int)\n"
   ]
  },
  {
   "cell_type": "code",
   "execution_count": null,
   "id": "1ce0a459",
   "metadata": {},
   "outputs": [],
   "source": [
    "# we must normalize the data and make it 0-1\n",
    "X_train = X_train.astype('float32')\n",
    "X_train /= 255"
   ]
  },
  {
   "cell_type": "code",
   "execution_count": null,
   "id": "66b991f2",
   "metadata": {},
   "outputs": [],
   "source": [
    "for i in range(60000):\n",
    "    image = mnist_train[i].reshape((1, 28, 28, 1))\n",
    "    y_train[i] = mnist_train[i][0]\n",
    "    image = np.expand_dims(image, axis = 3)\n",
    "    image = np.expand_dims(image, axis = 0)\n",
    "    image = image.astype('float32') / 255\n",
    "    X_train[i, :, :, 0] = image\n"
   ]
  },
  {
   "cell_type": "code",
   "execution_count": null,
   "id": "6a8ae659",
   "metadata": {},
   "outputs": [],
   "source": [
    "model.fit(X_train, y_train,\n",
    "          epochs = 5,\n",
    "          batch_size = 500,\n",
    "          validation_data = (X_test, y_test))"
   ]
  },
  {
   "cell_type": "code",
   "execution_count": null,
   "id": "6ddf357e",
   "metadata": {},
   "outputs": [],
   "source": [
    "print('Evaluation on the test set:')\n",
    "print(model.evaluate(X_test, y_test, verbose = 1))"
   ]
  },
  {
   "cell_type": "code",
   "execution_count": null,
   "id": "d5a3c673",
   "metadata": {},
   "outputs": [],
   "source": [
    "if __name__ == \"__main__\":\n",
    "    #train a model\n",
    "    model.compile(loss = 'categorical_crossentropy', optimizer = 'adam')\n",
    "    #print(model.summary())\n",
    "    #learn on dataset\n",
    "    model.fit(X_train, y_train, batch_size = 300, epochs = 50)"
   ]
  },
  {
   "cell_type": "code",
   "execution_count": 23,
   "id": "73394100",
   "metadata": {},
   "outputs": [
    {
     "name": "stdout",
     "output_type": "stream",
     "text": [
      "Downloading data from http://yann.lecun.com/exdb/mnist/\n"
     ]
    },
    {
     "ename": "TypeError",
     "evalue": "'<' not supported between instances of 'int' and 'NoneType'",
     "output_type": "error",
     "traceback": [
      "\u001b[1;31m---------------------------------------------------------------------------\u001b[0m",
      "\u001b[1;31mTypeError\u001b[0m                                 Traceback (most recent call last)",
      "\u001b[1;32mC:\\Users\\KAURNA~1\\AppData\\Local\\Temp/ipykernel_18608/3855830280.py\u001b[0m in \u001b[0;36m<module>\u001b[1;34m\u001b[0m\n\u001b[0;32m     17\u001b[0m \u001b[1;31m# keras requires input data to be in a special format\u001b[0m\u001b[1;33m\u001b[0m\u001b[1;33m\u001b[0m\u001b[1;33m\u001b[0m\u001b[0m\n\u001b[0;32m     18\u001b[0m \u001b[1;32mfrom\u001b[0m \u001b[0mkeras\u001b[0m\u001b[1;33m.\u001b[0m\u001b[0mutils\u001b[0m\u001b[1;33m.\u001b[0m\u001b[0mdata_utils\u001b[0m \u001b[1;32mimport\u001b[0m \u001b[0mget_file\u001b[0m\u001b[1;33m\u001b[0m\u001b[1;33m\u001b[0m\u001b[0m\n\u001b[1;32m---> 19\u001b[1;33m \u001b[0mmnist_path\u001b[0m \u001b[1;33m=\u001b[0m \u001b[0mget_file\u001b[0m\u001b[1;33m(\u001b[0m\u001b[1;34m'mnist_data.npz'\u001b[0m\u001b[1;33m,\u001b[0m\u001b[0morigin\u001b[0m\u001b[1;33m=\u001b[0m\u001b[1;34m'http://yann.lecun.com/exdb/mnist/'\u001b[0m\u001b[1;33m)\u001b[0m\u001b[1;33m\u001b[0m\u001b[1;33m\u001b[0m\u001b[0m\n\u001b[0m\u001b[0;32m     20\u001b[0m \u001b[0mmnist_train\u001b[0m\u001b[1;33m,\u001b[0m \u001b[0mmnist_test\u001b[0m \u001b[1;33m=\u001b[0m \u001b[0mmnist\u001b[0m\u001b[1;33m.\u001b[0m\u001b[0mload_data\u001b[0m\u001b[1;33m(\u001b[0m\u001b[0mmnist_path\u001b[0m\u001b[1;33m)\u001b[0m\u001b[1;33m\u001b[0m\u001b[1;33m\u001b[0m\u001b[0m\n\u001b[0;32m     21\u001b[0m \u001b[1;33m\u001b[0m\u001b[0m\n",
      "\u001b[1;32mc:\\users\\kaurnavdeep1\\appdata\\local\\programs\\python\\python37\\lib\\site-packages\\keras\\utils\\data_utils.py\u001b[0m in \u001b[0;36mget_file\u001b[1;34m(fname, origin, untar, md5_hash, file_hash, cache_subdir, hash_algorithm, extract, archive_format, cache_dir)\u001b[0m\n\u001b[0;32m    281\u001b[0m     \u001b[1;32mtry\u001b[0m\u001b[1;33m:\u001b[0m\u001b[1;33m\u001b[0m\u001b[1;33m\u001b[0m\u001b[0m\n\u001b[0;32m    282\u001b[0m       \u001b[1;32mtry\u001b[0m\u001b[1;33m:\u001b[0m\u001b[1;33m\u001b[0m\u001b[1;33m\u001b[0m\u001b[0m\n\u001b[1;32m--> 283\u001b[1;33m         \u001b[0murlretrieve\u001b[0m\u001b[1;33m(\u001b[0m\u001b[0morigin\u001b[0m\u001b[1;33m,\u001b[0m \u001b[0mfpath\u001b[0m\u001b[1;33m,\u001b[0m \u001b[0mDLProgbar\u001b[0m\u001b[1;33m(\u001b[0m\u001b[1;33m)\u001b[0m\u001b[1;33m)\u001b[0m\u001b[1;33m\u001b[0m\u001b[1;33m\u001b[0m\u001b[0m\n\u001b[0m\u001b[0;32m    284\u001b[0m       \u001b[1;32mexcept\u001b[0m \u001b[0murllib\u001b[0m\u001b[1;33m.\u001b[0m\u001b[0merror\u001b[0m\u001b[1;33m.\u001b[0m\u001b[0mHTTPError\u001b[0m \u001b[1;32mas\u001b[0m \u001b[0me\u001b[0m\u001b[1;33m:\u001b[0m\u001b[1;33m\u001b[0m\u001b[1;33m\u001b[0m\u001b[0m\n\u001b[0;32m    285\u001b[0m         \u001b[1;32mraise\u001b[0m \u001b[0mException\u001b[0m\u001b[1;33m(\u001b[0m\u001b[0merror_msg\u001b[0m\u001b[1;33m.\u001b[0m\u001b[0mformat\u001b[0m\u001b[1;33m(\u001b[0m\u001b[0morigin\u001b[0m\u001b[1;33m,\u001b[0m \u001b[0me\u001b[0m\u001b[1;33m.\u001b[0m\u001b[0mcode\u001b[0m\u001b[1;33m,\u001b[0m \u001b[0me\u001b[0m\u001b[1;33m.\u001b[0m\u001b[0mmsg\u001b[0m\u001b[1;33m)\u001b[0m\u001b[1;33m)\u001b[0m\u001b[1;33m\u001b[0m\u001b[1;33m\u001b[0m\u001b[0m\n",
      "\u001b[1;32mc:\\users\\kaurnavdeep1\\appdata\\local\\programs\\python\\python37\\lib\\site-packages\\keras\\utils\\data_utils.py\u001b[0m in \u001b[0;36murlretrieve\u001b[1;34m(url, filename, reporthook, data)\u001b[0m\n\u001b[0;32m     82\u001b[0m     \u001b[0mresponse\u001b[0m \u001b[1;33m=\u001b[0m \u001b[0murlopen\u001b[0m\u001b[1;33m(\u001b[0m\u001b[0murl\u001b[0m\u001b[1;33m,\u001b[0m \u001b[0mdata\u001b[0m\u001b[1;33m)\u001b[0m\u001b[1;33m\u001b[0m\u001b[1;33m\u001b[0m\u001b[0m\n\u001b[0;32m     83\u001b[0m     \u001b[1;32mwith\u001b[0m \u001b[0mopen\u001b[0m\u001b[1;33m(\u001b[0m\u001b[0mfilename\u001b[0m\u001b[1;33m,\u001b[0m \u001b[1;34m'wb'\u001b[0m\u001b[1;33m)\u001b[0m \u001b[1;32mas\u001b[0m \u001b[0mfd\u001b[0m\u001b[1;33m:\u001b[0m\u001b[1;33m\u001b[0m\u001b[1;33m\u001b[0m\u001b[0m\n\u001b[1;32m---> 84\u001b[1;33m       \u001b[1;32mfor\u001b[0m \u001b[0mchunk\u001b[0m \u001b[1;32min\u001b[0m \u001b[0mchunk_read\u001b[0m\u001b[1;33m(\u001b[0m\u001b[0mresponse\u001b[0m\u001b[1;33m,\u001b[0m \u001b[0mreporthook\u001b[0m\u001b[1;33m=\u001b[0m\u001b[0mreporthook\u001b[0m\u001b[1;33m)\u001b[0m\u001b[1;33m:\u001b[0m\u001b[1;33m\u001b[0m\u001b[1;33m\u001b[0m\u001b[0m\n\u001b[0m\u001b[0;32m     85\u001b[0m         \u001b[0mfd\u001b[0m\u001b[1;33m.\u001b[0m\u001b[0mwrite\u001b[0m\u001b[1;33m(\u001b[0m\u001b[0mchunk\u001b[0m\u001b[1;33m)\u001b[0m\u001b[1;33m\u001b[0m\u001b[1;33m\u001b[0m\u001b[0m\n\u001b[0;32m     86\u001b[0m \u001b[1;32melse\u001b[0m\u001b[1;33m:\u001b[0m\u001b[1;33m\u001b[0m\u001b[1;33m\u001b[0m\u001b[0m\n",
      "\u001b[1;32mc:\\users\\kaurnavdeep1\\appdata\\local\\programs\\python\\python37\\lib\\site-packages\\keras\\utils\\data_utils.py\u001b[0m in \u001b[0;36mchunk_read\u001b[1;34m(response, chunk_size, reporthook)\u001b[0m\n\u001b[0;32m     74\u001b[0m         \u001b[0mcount\u001b[0m \u001b[1;33m+=\u001b[0m \u001b[1;36m1\u001b[0m\u001b[1;33m\u001b[0m\u001b[1;33m\u001b[0m\u001b[0m\n\u001b[0;32m     75\u001b[0m         \u001b[1;32mif\u001b[0m \u001b[0mreporthook\u001b[0m \u001b[1;32mis\u001b[0m \u001b[1;32mnot\u001b[0m \u001b[1;32mNone\u001b[0m\u001b[1;33m:\u001b[0m\u001b[1;33m\u001b[0m\u001b[1;33m\u001b[0m\u001b[0m\n\u001b[1;32m---> 76\u001b[1;33m           \u001b[0mreporthook\u001b[0m\u001b[1;33m(\u001b[0m\u001b[0mcount\u001b[0m\u001b[1;33m,\u001b[0m \u001b[0mchunk_size\u001b[0m\u001b[1;33m,\u001b[0m \u001b[0mtotal_size\u001b[0m\u001b[1;33m)\u001b[0m\u001b[1;33m\u001b[0m\u001b[1;33m\u001b[0m\u001b[0m\n\u001b[0m\u001b[0;32m     77\u001b[0m         \u001b[1;32mif\u001b[0m \u001b[0mchunk\u001b[0m\u001b[1;33m:\u001b[0m\u001b[1;33m\u001b[0m\u001b[1;33m\u001b[0m\u001b[0m\n\u001b[0;32m     78\u001b[0m           \u001b[1;32myield\u001b[0m \u001b[0mchunk\u001b[0m\u001b[1;33m\u001b[0m\u001b[1;33m\u001b[0m\u001b[0m\n",
      "\u001b[1;32mc:\\users\\kaurnavdeep1\\appdata\\local\\programs\\python\\python37\\lib\\site-packages\\keras\\utils\\data_utils.py\u001b[0m in \u001b[0;36m__call__\u001b[1;34m(self, block_num, block_size, total_size)\u001b[0m\n\u001b[0;32m    272\u001b[0m           \u001b[0mself\u001b[0m\u001b[1;33m.\u001b[0m\u001b[0mprogbar\u001b[0m \u001b[1;33m=\u001b[0m \u001b[0mProgbar\u001b[0m\u001b[1;33m(\u001b[0m\u001b[0mtotal_size\u001b[0m\u001b[1;33m)\u001b[0m\u001b[1;33m\u001b[0m\u001b[1;33m\u001b[0m\u001b[0m\n\u001b[0;32m    273\u001b[0m         \u001b[0mcurrent\u001b[0m \u001b[1;33m=\u001b[0m \u001b[0mblock_num\u001b[0m \u001b[1;33m*\u001b[0m \u001b[0mblock_size\u001b[0m\u001b[1;33m\u001b[0m\u001b[1;33m\u001b[0m\u001b[0m\n\u001b[1;32m--> 274\u001b[1;33m         \u001b[1;32mif\u001b[0m \u001b[0mcurrent\u001b[0m \u001b[1;33m<\u001b[0m \u001b[0mtotal_size\u001b[0m\u001b[1;33m:\u001b[0m\u001b[1;33m\u001b[0m\u001b[1;33m\u001b[0m\u001b[0m\n\u001b[0m\u001b[0;32m    275\u001b[0m           \u001b[0mself\u001b[0m\u001b[1;33m.\u001b[0m\u001b[0mprogbar\u001b[0m\u001b[1;33m.\u001b[0m\u001b[0mupdate\u001b[0m\u001b[1;33m(\u001b[0m\u001b[0mcurrent\u001b[0m\u001b[1;33m)\u001b[0m\u001b[1;33m\u001b[0m\u001b[1;33m\u001b[0m\u001b[0m\n\u001b[0;32m    276\u001b[0m         \u001b[1;32melif\u001b[0m \u001b[1;32mnot\u001b[0m \u001b[0mself\u001b[0m\u001b[1;33m.\u001b[0m\u001b[0mfinished\u001b[0m\u001b[1;33m:\u001b[0m\u001b[1;33m\u001b[0m\u001b[1;33m\u001b[0m\u001b[0m\n",
      "\u001b[1;31mTypeError\u001b[0m: '<' not supported between instances of 'int' and 'NoneType'"
     ]
    }
   ],
   "source": [
    "import tensorflow\n",
    "# 4 layer CNN with a softmax output\n",
    "# test on MNIST data set\n",
    "# You'll need a gpu and a cudnn library to be installed on your system.\n",
    "from keras.datasets import mnist\n",
    "\n",
    "# use a simple structure for your network\n",
    "# one input, one output (softmax).\n",
    "model = Sequential()\n",
    "model.add(Conv2D(filters = 20, kernel_size = (5,5), input_shape = (28, 28, 1)))\n",
    "model.add(MaxPooling2D(pool_size = (2,2)))\n",
    "model.add(Flatten())\n",
    "model.add(Dense(units = 128, activation ='relu'))\n",
    "model.add(Dense(units = 10, activation ='softmax'))\n",
    "\n",
    "#create the train/test data loader and the trainer\n",
    "# keras requires input data to be in a special format\n",
    "from keras.utils.data_utils import get_file\n",
    "mnist_path = get_file('mnist_data.npz',origin='http://yann.lecun.com/exdb/mnist/')\n",
    "mnist_train, mnist_test = mnist.load_data(mnist_path)\n",
    "\n",
    "# To evaluate the model on a train dataset, the file should look like this:\n",
    "# 1- n_samples - n_timesteps - n_samples_per_timestep - n_features - 1\n",
    "X_train = np.zeros((len(mnist_train), 60000, 28, 28, 1))\n",
    "y_train = np.zeros((len(mnist_train), 60000), dtype=int)\n",
    "\n",
    "# we must normalize the data and make it 0-1\n",
    "X_train = X_train.astype('float32')\n",
    "X_train /= 255\n",
    "\n",
    "for i in range(60000):\n",
    "    image = mnist_train[i].reshape((1, 28, 28, 1))\n",
    "    y_train[i] = mnist_train[i][0]\n",
    "    image = np.expand_dims(image, axis = 3)\n",
    "    image = np.expand_dims(image, axis = 0)\n",
    "    image = image.astype('float32') / 255\n",
    "    X_train[i, :, :, 0] = image\n",
    "\n",
    "model.fit(X_train, y_train,\n",
    "          epochs = 5,\n",
    "          batch_size = 500,\n",
    "          validation_data = (X_test, y_test))\n",
    "\n",
    "print('Evaluation on the test set:')\n",
    "print(model.evaluate(X_test, y_test, verbose = 1))\n",
    "\n",
    "if __name__ == \"__main__\":\n",
    "    #train a model\n",
    "    model.compile(loss = 'categorical_crossentropy', optimizer = 'adam')\n",
    "    #print(model.summary())\n",
    "    #learn on dataset\n",
    "    model.fit(X_train, y_train, batch_size = 300, epochs = 50)"
   ]
  },
  {
   "cell_type": "code",
   "execution_count": null,
   "id": "7572429b",
   "metadata": {},
   "outputs": [],
   "source": []
  }
 ],
 "metadata": {
  "kernelspec": {
   "display_name": "Python 3 (ipykernel)",
   "language": "python",
   "name": "python3"
  },
  "language_info": {
   "codemirror_mode": {
    "name": "ipython",
    "version": 3
   },
   "file_extension": ".py",
   "mimetype": "text/x-python",
   "name": "python",
   "nbconvert_exporter": "python",
   "pygments_lexer": "ipython3",
   "version": "3.7.6"
  }
 },
 "nbformat": 4,
 "nbformat_minor": 5
}
